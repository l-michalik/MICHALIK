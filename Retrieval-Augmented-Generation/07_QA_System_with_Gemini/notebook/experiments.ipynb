{
 "cells": [
  {
   "cell_type": "code",
   "execution_count": 7,
   "metadata": {},
   "outputs": [
    {
     "data": {
      "text/plain": [
       "True"
      ]
     },
     "execution_count": 7,
     "metadata": {},
     "output_type": "execute_result"
    }
   ],
   "source": [
    "import os\n",
    "from dotenv import load_dotenv\n",
    "load_dotenv()"
   ]
  },
  {
   "cell_type": "code",
   "execution_count": 8,
   "metadata": {},
   "outputs": [],
   "source": [
    "GOOGLE_API_KEY = os.getenv(\"GOOGLE_API_KEY\")"
   ]
  },
  {
   "cell_type": "code",
   "execution_count": 4,
   "metadata": {},
   "outputs": [],
   "source": [
    "from llama_index.llms.gemini import Gemini\n",
    "\n",
    "import google.generativeai as genai\n",
    "\n",
    "from llama_index.core import SimpleDirectoryReader\n",
    "\n",
    "from llama_index.core import VectorStoreIndex\n",
    "\n",
    "from IPython.display import Markdown, display\n",
    "\n",
    "from llama_index.core import ServiceContext\n",
    "\n",
    "from llama_index.core import StorageContext, load_index_from_storage\n",
    "\n",
    "from llama_index.embeddings.gemini import GeminiEmbedding"
   ]
  },
  {
   "cell_type": "code",
   "execution_count": 9,
   "metadata": {},
   "outputs": [],
   "source": [
    "genai.configure(api_key=GOOGLE_API_KEY)"
   ]
  },
  {
   "cell_type": "code",
   "execution_count": 13,
   "metadata": {},
   "outputs": [
    {
     "name": "stdout",
     "output_type": "stream",
     "text": [
      "Model: models/gemini-1.0-pro-vision-latest\n",
      "Model: models/gemini-pro-vision\n",
      "Model: models/gemini-1.5-pro-latest\n",
      "Model: models/gemini-1.5-pro-002\n",
      "Model: models/gemini-1.5-pro\n",
      "Model: models/gemini-1.5-flash-latest\n",
      "Model: models/gemini-1.5-flash\n",
      "Model: models/gemini-1.5-flash-002\n",
      "Model: models/gemini-1.5-flash-8b\n",
      "Model: models/gemini-1.5-flash-8b-001\n",
      "Model: models/gemini-1.5-flash-8b-latest\n",
      "Model: models/gemini-2.5-pro-preview-03-25\n",
      "Model: models/gemini-2.5-flash-preview-04-17\n",
      "Model: models/gemini-2.5-flash-preview-05-20\n",
      "Model: models/gemini-2.5-flash\n",
      "Model: models/gemini-2.5-flash-preview-04-17-thinking\n",
      "Model: models/gemini-2.5-flash-lite-preview-06-17\n",
      "Model: models/gemini-2.5-pro-preview-05-06\n",
      "Model: models/gemini-2.5-pro-preview-06-05\n",
      "Model: models/gemini-2.5-pro\n",
      "Model: models/gemini-2.0-flash-exp\n",
      "Model: models/gemini-2.0-flash\n",
      "Model: models/gemini-2.0-flash-001\n",
      "Model: models/gemini-2.0-flash-lite-001\n",
      "Model: models/gemini-2.0-flash-lite\n",
      "Model: models/gemini-2.0-flash-lite-preview-02-05\n",
      "Model: models/gemini-2.0-flash-lite-preview\n",
      "Model: models/gemini-2.0-pro-exp\n",
      "Model: models/gemini-2.0-pro-exp-02-05\n",
      "Model: models/gemini-exp-1206\n",
      "Model: models/gemini-2.0-flash-thinking-exp-01-21\n",
      "Model: models/gemini-2.0-flash-thinking-exp\n",
      "Model: models/gemini-2.0-flash-thinking-exp-1219\n",
      "Model: models/gemini-2.5-flash-preview-tts\n",
      "Model: models/gemini-2.5-pro-preview-tts\n",
      "Model: models/learnlm-2.0-flash-experimental\n",
      "Model: models/gemma-3-1b-it\n",
      "Model: models/gemma-3-4b-it\n",
      "Model: models/gemma-3-12b-it\n",
      "Model: models/gemma-3-27b-it\n",
      "Model: models/gemma-3n-e4b-it\n",
      "Model: models/gemma-3n-e2b-it\n"
     ]
    }
   ],
   "source": [
    "for models in genai.list_models():\n",
    "    if 'generateContent' in models.supported_generation_methods:\n",
    "        print(f\"Model: {models.name}\")"
   ]
  },
  {
   "cell_type": "code",
   "execution_count": null,
   "metadata": {},
   "outputs": [],
   "source": []
  }
 ],
 "metadata": {
  "kernelspec": {
   "display_name": "Python 3",
   "language": "python",
   "name": "python3"
  },
  "language_info": {
   "codemirror_mode": {
    "name": "ipython",
    "version": 3
   },
   "file_extension": ".py",
   "mimetype": "text/x-python",
   "name": "python",
   "nbconvert_exporter": "python",
   "pygments_lexer": "ipython3",
   "version": "3.9.23"
  }
 },
 "nbformat": 4,
 "nbformat_minor": 2
}
