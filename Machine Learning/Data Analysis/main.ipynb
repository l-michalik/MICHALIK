{
 "cells": [
  {
   "cell_type": "code",
   "execution_count": 1,
   "metadata": {},
   "outputs": [],
   "source": [
    "import pandas as pd\n",
    "data = pd.read_csv('../data/Laptop_price.csv')"
   ]
  },
  {
   "cell_type": "code",
   "execution_count": 3,
   "metadata": {},
   "outputs": [
    {
     "data": {
      "text/html": [
       "<div>\n",
       "<style scoped>\n",
       "    .dataframe tbody tr th:only-of-type {\n",
       "        vertical-align: middle;\n",
       "    }\n",
       "\n",
       "    .dataframe tbody tr th {\n",
       "        vertical-align: top;\n",
       "    }\n",
       "\n",
       "    .dataframe thead th {\n",
       "        text-align: right;\n",
       "    }\n",
       "</style>\n",
       "<table border=\"1\" class=\"dataframe\">\n",
       "  <thead>\n",
       "    <tr style=\"text-align: right;\">\n",
       "      <th></th>\n",
       "      <th>Processor_Speed</th>\n",
       "      <th>RAM_Size</th>\n",
       "      <th>Storage_Capacity</th>\n",
       "      <th>Screen_Size</th>\n",
       "      <th>Weight</th>\n",
       "      <th>Price</th>\n",
       "    </tr>\n",
       "  </thead>\n",
       "  <tbody>\n",
       "    <tr>\n",
       "      <th>Processor_Speed</th>\n",
       "      <td>1.000000</td>\n",
       "      <td>0.021391</td>\n",
       "      <td>-0.067576</td>\n",
       "      <td>-0.013425</td>\n",
       "      <td>-0.054603</td>\n",
       "      <td>-0.050737</td>\n",
       "    </tr>\n",
       "    <tr>\n",
       "      <th>RAM_Size</th>\n",
       "      <td>0.021391</td>\n",
       "      <td>1.000000</td>\n",
       "      <td>0.002111</td>\n",
       "      <td>-0.036002</td>\n",
       "      <td>-0.025382</td>\n",
       "      <td>0.061237</td>\n",
       "    </tr>\n",
       "    <tr>\n",
       "      <th>Storage_Capacity</th>\n",
       "      <td>-0.067576</td>\n",
       "      <td>0.002111</td>\n",
       "      <td>1.000000</td>\n",
       "      <td>-0.027560</td>\n",
       "      <td>0.041335</td>\n",
       "      <td>0.997908</td>\n",
       "    </tr>\n",
       "    <tr>\n",
       "      <th>Screen_Size</th>\n",
       "      <td>-0.013425</td>\n",
       "      <td>-0.036002</td>\n",
       "      <td>-0.027560</td>\n",
       "      <td>1.000000</td>\n",
       "      <td>0.021995</td>\n",
       "      <td>-0.026740</td>\n",
       "    </tr>\n",
       "    <tr>\n",
       "      <th>Weight</th>\n",
       "      <td>-0.054603</td>\n",
       "      <td>-0.025382</td>\n",
       "      <td>0.041335</td>\n",
       "      <td>0.021995</td>\n",
       "      <td>1.000000</td>\n",
       "      <td>0.038417</td>\n",
       "    </tr>\n",
       "    <tr>\n",
       "      <th>Price</th>\n",
       "      <td>-0.050737</td>\n",
       "      <td>0.061237</td>\n",
       "      <td>0.997908</td>\n",
       "      <td>-0.026740</td>\n",
       "      <td>0.038417</td>\n",
       "      <td>1.000000</td>\n",
       "    </tr>\n",
       "  </tbody>\n",
       "</table>\n",
       "</div>"
      ],
      "text/plain": [
       "                  Processor_Speed  RAM_Size  Storage_Capacity  Screen_Size  \\\n",
       "Processor_Speed          1.000000  0.021391         -0.067576    -0.013425   \n",
       "RAM_Size                 0.021391  1.000000          0.002111    -0.036002   \n",
       "Storage_Capacity        -0.067576  0.002111          1.000000    -0.027560   \n",
       "Screen_Size             -0.013425 -0.036002         -0.027560     1.000000   \n",
       "Weight                  -0.054603 -0.025382          0.041335     0.021995   \n",
       "Price                   -0.050737  0.061237          0.997908    -0.026740   \n",
       "\n",
       "                    Weight     Price  \n",
       "Processor_Speed  -0.054603 -0.050737  \n",
       "RAM_Size         -0.025382  0.061237  \n",
       "Storage_Capacity  0.041335  0.997908  \n",
       "Screen_Size       0.021995 -0.026740  \n",
       "Weight            1.000000  0.038417  \n",
       "Price             0.038417  1.000000  "
      ]
     },
     "execution_count": 3,
     "metadata": {},
     "output_type": "execute_result"
    }
   ],
   "source": [
    "numeric_data = data.select_dtypes(include=['number'])\n",
    "numeric_data.corr()"
   ]
  }
 ],
 "metadata": {
  "kernelspec": {
   "display_name": "Python 3",
   "language": "python",
   "name": "python3"
  },
  "language_info": {
   "codemirror_mode": {
    "name": "ipython",
    "version": 3
   },
   "file_extension": ".py",
   "mimetype": "text/x-python",
   "name": "python",
   "nbconvert_exporter": "python",
   "pygments_lexer": "ipython3",
   "version": "3.9.23"
  }
 },
 "nbformat": 4,
 "nbformat_minor": 2
}
